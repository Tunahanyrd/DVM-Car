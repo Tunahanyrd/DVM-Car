{
 "cells": [
  {
   "cell_type": "code",
   "execution_count": 115,
   "id": "33d3398b",
   "metadata": {},
   "outputs": [],
   "source": [
    "import pandas as pd\n",
    "from pathlib import Path\n",
    "import numpy as np\n",
    "path = Path(\"./data\")\n",
    "df = pd.read_csv(path / \"Ad_table (extra).csv\")\n",
    "target = \"Price\"\n",
    "X = df.drop(columns=[target, \"Annual_Tax\"])\n",
    "y = df[target]"
   ]
  },
  {
   "cell_type": "code",
   "execution_count": 116,
   "metadata": {},
   "outputs": [
    {
     "name": "stdout",
     "output_type": "stream",
     "text": [
      "            Maker  Genmodel  Genmodel_ID   Adv_ID  Adv_year  Adv_month  \\\n",
      "0         Bentley    Arnage         10_1  10_1$$1      2018          4   \n",
      "1         Bentley    Arnage         10_1  10_1$$2      2018          6   \n",
      "2         Bentley    Arnage         10_1  10_1$$3      2017         11   \n",
      "3         Bentley    Arnage         10_1  10_1$$4      2018          4   \n",
      "4         Bentley    Arnage         10_1  10_1$$5      2017         11   \n",
      "...           ...       ...          ...      ...       ...        ...   \n",
      "268250  Westfield     Sport         97_1  97_1$$1      2018          5   \n",
      "268251  Westfield     Sport         97_1  97_1$$2      2018          5   \n",
      "268252      Zenos       E10         99_1  99_1$$1      2018          3   \n",
      "268253      Zenos       E10         99_1  99_1$$2      2018          3   \n",
      "268254      Zenos       E10         99_1  99_1$$3      2018          5   \n",
      "\n",
      "         Color  Reg_year     Bodytype Runned_Miles  ... Fuel_type  \\\n",
      "0       Silver    2000.0       Saloon        60000  ...    Petrol   \n",
      "1         Grey    2002.0       Saloon        44000  ...    Petrol   \n",
      "2         Blue    2002.0       Saloon        55000  ...    Petrol   \n",
      "3        Green    2003.0       Saloon        14000  ...    Petrol   \n",
      "4         Grey    2003.0       Saloon        61652  ...    Petrol   \n",
      "...        ...       ...          ...          ...  ...       ...   \n",
      "268250  Yellow    2006.0  Convertible         1800  ...    Petrol   \n",
      "268251  Yellow    2006.0  Convertible         2009  ...       NaN   \n",
      "268252     Red    2016.0  Convertible            6  ...    Petrol   \n",
      "268253   Green    2016.0  Convertible         1538  ...    Petrol   \n",
      "268254    Grey    2016.0  Convertible          500  ...    Petrol   \n",
      "\n",
      "       Engine_power Wheelbase  Height   Width  Length  Average_mpg  Top_speed  \\\n",
      "0               NaN    3116.0  1515.0  2125.0  5390.0          NaN        NaN   \n",
      "1             450.0    3116.0  1515.0  2125.0  5390.0     13.7 mpg    179 mph   \n",
      "2             400.0    3116.0  1515.0  2125.0  5390.0     14.7 mpg    155 mph   \n",
      "3               NaN    3116.0  1515.0  2125.0  5390.0          NaN        NaN   \n",
      "4               NaN    3116.0  1515.0  2125.0  5390.0          NaN        NaN   \n",
      "...             ...       ...     ...     ...     ...          ...        ...   \n",
      "268250          NaN       NaN     NaN     NaN     NaN          NaN        NaN   \n",
      "268251          NaN       NaN     NaN     NaN     NaN          NaN        NaN   \n",
      "268252          NaN       NaN     NaN     NaN     NaN          NaN        NaN   \n",
      "268253          NaN       NaN     NaN     NaN     NaN          NaN        NaN   \n",
      "268254          NaN       NaN     NaN     NaN     NaN          NaN        NaN   \n",
      "\n",
      "       Seat_num Door_num  \n",
      "0           5.0      4.0  \n",
      "1           5.0      4.0  \n",
      "2           5.0      4.0  \n",
      "3           5.0      4.0  \n",
      "4           5.0      4.0  \n",
      "...         ...      ...  \n",
      "268250      2.0      NaN  \n",
      "268251      NaN      NaN  \n",
      "268252      2.0      NaN  \n",
      "268253      2.0      NaN  \n",
      "268254      2.0      NaN  \n",
      "\n",
      "[268255 rows x 22 columns]\n"
     ]
    },
    {
     "data": {
      "text/plain": [
       "(268255, 22)"
      ]
     },
     "execution_count": 116,
     "metadata": {},
     "output_type": "execute_result"
    }
   ],
   "source": [
    "print(X)\n",
    "X.shape"
   ]
  },
  {
   "cell_type": "code",
   "execution_count": 117,
   "id": "bde9255b",
   "metadata": {},
   "outputs": [],
   "source": [
    "X[[\"Height\", \"Width\", \"Length\", \"Wheelbase\"]] = X[[\"Height\", \"Width\", \"Length\", \"Wheelbase\"]].astype(float).replace(0., np.nan)"
   ]
  },
  {
   "cell_type": "code",
   "execution_count": 118,
   "id": "5d7fdac2",
   "metadata": {},
   "outputs": [],
   "source": [
    "X = X.dropna()"
   ]
  },
  {
   "cell_type": "code",
   "execution_count": 119,
   "id": "00de6891",
   "metadata": {},
   "outputs": [
    {
     "data": {
      "text/plain": [
       "(193593, 22)"
      ]
     },
     "execution_count": 119,
     "metadata": {},
     "output_type": "execute_result"
    }
   ],
   "source": [
    "X.shape"
   ]
  },
  {
   "cell_type": "code",
   "execution_count": 120,
   "id": "a336db58",
   "metadata": {},
   "outputs": [
    {
     "name": "stdout",
     "output_type": "stream",
     "text": [
      "<class 'pandas.core.frame.DataFrame'>\n",
      "Index: 193593 entries, 1 to 268249\n",
      "Data columns (total 22 columns):\n",
      " #   Column        Non-Null Count   Dtype  \n",
      "---  ------        --------------   -----  \n",
      " 0   Maker         193593 non-null  object \n",
      " 1    Genmodel     193593 non-null  object \n",
      " 2    Genmodel_ID  193593 non-null  object \n",
      " 3   Adv_ID        193593 non-null  object \n",
      " 4   Adv_year      193593 non-null  int64  \n",
      " 5   Adv_month     193593 non-null  int64  \n",
      " 6   Color         193593 non-null  object \n",
      " 7   Reg_year      193593 non-null  float64\n",
      " 8   Bodytype      193593 non-null  object \n",
      " 9   Runned_Miles  193593 non-null  object \n",
      " 10  Engin_size    193593 non-null  object \n",
      " 11  Gearbox       193593 non-null  object \n",
      " 12  Fuel_type     193593 non-null  object \n",
      " 13  Engine_power  193593 non-null  float64\n",
      " 14  Wheelbase     193593 non-null  float64\n",
      " 15  Height        193593 non-null  float64\n",
      " 16  Width         193593 non-null  float64\n",
      " 17  Length        193593 non-null  float64\n",
      " 18  Average_mpg   193593 non-null  object \n",
      " 19  Top_speed     193593 non-null  object \n",
      " 20  Seat_num      193593 non-null  float64\n",
      " 21  Door_num      193593 non-null  float64\n",
      "dtypes: float64(8), int64(2), object(12)\n",
      "memory usage: 34.0+ MB\n"
     ]
    }
   ],
   "source": [
    "X.info()"
   ]
  },
  {
   "cell_type": "code",
   "execution_count": 121,
   "id": "309594b9",
   "metadata": {},
   "outputs": [
    {
     "data": {
      "text/plain": [
       "Index(['Maker', ' Genmodel', ' Genmodel_ID', 'Adv_ID', 'Adv_year', 'Adv_month',\n",
       "       'Color', 'Reg_year', 'Bodytype', 'Runned_Miles', 'Engin_size',\n",
       "       'Gearbox', 'Fuel_type', 'Engine_power', 'Wheelbase', 'Height', 'Width',\n",
       "       'Length', 'Average_mpg', 'Top_speed', 'Seat_num', 'Door_num'],\n",
       "      dtype='object')"
      ]
     },
     "execution_count": 121,
     "metadata": {},
     "output_type": "execute_result"
    }
   ],
   "source": [
    "X.columns"
   ]
  },
  {
   "cell_type": "code",
   "execution_count": 122,
   "id": "238824ed",
   "metadata": {},
   "outputs": [],
   "source": [
    "X.columns = X.columns.str.strip()"
   ]
  },
  {
   "cell_type": "code",
   "execution_count": 123,
   "id": "370f0f6c",
   "metadata": {},
   "outputs": [
    {
     "data": {
      "application/vnd.microsoft.datawrangler.viewer.v0+json": {
       "columns": [
        {
         "name": "Genmodel_ID",
         "rawType": "object",
         "type": "string"
        },
        {
         "name": "count",
         "rawType": "int64",
         "type": "integer"
        }
       ],
       "ref": "e50845e2-26f2-40c7-b205-86d6031a73f4",
       "rows": [
        [
         "94_9",
         "4930"
        ],
        [
         "29_13",
         "3332"
        ],
        [
         "29_14",
         "2696"
        ],
        [
         "95_15",
         "2466"
        ],
        [
         "29_27",
         "2306"
        ],
        [
         "28_2",
         "2289"
        ],
        [
         "7_11",
         "2215"
        ],
        [
         "94_5",
         "2051"
        ],
        [
         "75_2",
         "1973"
        ],
        [
         "47_13",
         "1954"
        ],
        [
         "64_33",
         "1841"
        ],
        [
         "64_14",
         "1818"
        ],
        [
         "34_3",
         "1805"
        ],
        [
         "29_23",
         "1797"
        ],
        [
         "8_39",
         "1741"
        ],
        [
         "64_17",
         "1721"
        ],
        [
         "39_7",
         "1580"
        ],
        [
         "94_13",
         "1546"
        ],
        [
         "95_20",
         "1509"
        ],
        [
         "29_25",
         "1409"
        ],
        [
         "94_14",
         "1347"
        ],
        [
         "92_44",
         "1346"
        ],
        [
         "21_1",
         "1341"
        ],
        [
         "18_24",
         "1318"
        ],
        [
         "8_1",
         "1304"
        ],
        [
         "29_2",
         "1299"
        ],
        [
         "47_9",
         "1285"
        ],
        [
         "92_3",
         "1260"
        ],
        [
         "39_6",
         "1247"
        ],
        [
         "69_12",
         "1243"
        ],
        [
         "7_3",
         "1161"
        ],
        [
         "8_37",
         "1138"
        ],
        [
         "57_11",
         "1130"
        ],
        [
         "95_33",
         "1125"
        ],
        [
         "94_27",
         "1121"
        ],
        [
         "95_23",
         "1118"
        ],
        [
         "39_5",
         "1108"
        ],
        [
         "69_3",
         "1093"
        ],
        [
         "43_2",
         "1091"
        ],
        [
         "7_46",
         "1042"
        ],
        [
         "75_12",
         "1038"
        ],
        [
         "80_2",
         "1017"
        ],
        [
         "36_10",
         "991"
        ],
        [
         "7_21",
         "988"
        ],
        [
         "47_12",
         "987"
        ],
        [
         "43_9",
         "985"
        ],
        [
         "18_12",
         "979"
        ],
        [
         "80_9",
         "968"
        ],
        [
         "36_8",
         "956"
        ],
        [
         "71_4",
         "943"
        ]
       ],
       "shape": {
        "columns": 1,
        "rows": 646
       }
      },
      "text/plain": [
       "Genmodel_ID\n",
       "94_9     4930\n",
       "29_13    3332\n",
       "29_14    2696\n",
       "95_15    2466\n",
       "29_27    2306\n",
       "         ... \n",
       "62_22       1\n",
       "62_5        1\n",
       "63_2        1\n",
       "62_9        1\n",
       "27_11       1\n",
       "Name: count, Length: 646, dtype: int64"
      ]
     },
     "execution_count": 123,
     "metadata": {},
     "output_type": "execute_result"
    }
   ],
   "source": [
    "X[\"Genmodel_ID\"].value_counts()"
   ]
  },
  {
   "cell_type": "code",
   "execution_count": 124,
   "id": "0262f40b",
   "metadata": {},
   "outputs": [],
   "source": [
    "cols = [\n",
    "    \"Maker\",\n",
    "    \"Genmodel\",\n",
    "    \"Adv_ID\"\n",
    "]\n",
    "X = X.drop(cols, axis=1)"
   ]
  },
  {
   "cell_type": "code",
   "execution_count": 125,
   "id": "32da88b6",
   "metadata": {},
   "outputs": [],
   "source": [
    "X[\"Adv_month\"] = X[\"Adv_month\"].clip(1, 12)\n",
    "X[\"Reg_year\"] = X[\"Reg_year\"].clip(1960, 2025)"
   ]
  },
  {
   "cell_type": "code",
   "execution_count": 126,
   "id": "d3149b0d",
   "metadata": {},
   "outputs": [
    {
     "data": {
      "application/vnd.microsoft.datawrangler.viewer.v0+json": {
       "columns": [
        {
         "name": "index",
         "rawType": "int64",
         "type": "integer"
        },
        {
         "name": "car_old",
         "rawType": "float64",
         "type": "float"
        }
       ],
       "ref": "a57bbc6f-5fab-456a-bd69-532e408cf778",
       "rows": [
        [
         "1",
         "16.0"
        ],
        [
         "2",
         "15.0"
        ],
        [
         "5",
         "15.0"
        ],
        [
         "6",
         "16.0"
        ],
        [
         "11",
         "16.0"
        ],
        [
         "13",
         "16.0"
        ],
        [
         "21",
         "15.0"
        ],
        [
         "24",
         "16.0"
        ],
        [
         "37",
         "1.0"
        ],
        [
         "38",
         "0.0"
        ],
        [
         "39",
         "0.0"
        ],
        [
         "40",
         "2.0"
        ],
        [
         "41",
         "2.0"
        ],
        [
         "42",
         "2.0"
        ],
        [
         "43",
         "1.0"
        ],
        [
         "44",
         "2.0"
        ],
        [
         "45",
         "0.0"
        ],
        [
         "46",
         "1.0"
        ],
        [
         "47",
         "1.0"
        ],
        [
         "48",
         "0.0"
        ],
        [
         "49",
         "0.0"
        ],
        [
         "57",
         "0.0"
        ],
        [
         "59",
         "0.0"
        ],
        [
         "60",
         "0.0"
        ],
        [
         "61",
         "1.0"
        ],
        [
         "65",
         "0.0"
        ],
        [
         "68",
         "0.0"
        ],
        [
         "75",
         "1.0"
        ],
        [
         "77",
         "2.0"
        ],
        [
         "78",
         "0.0"
        ],
        [
         "80",
         "1.0"
        ],
        [
         "81",
         "1.0"
        ],
        [
         "83",
         "1.0"
        ],
        [
         "84",
         "1.0"
        ],
        [
         "85",
         "1.0"
        ],
        [
         "87",
         "0.0"
        ],
        [
         "88",
         "0.0"
        ],
        [
         "90",
         "1.0"
        ],
        [
         "92",
         "2.0"
        ],
        [
         "96",
         "1.0"
        ],
        [
         "98",
         "2.0"
        ],
        [
         "100",
         "1.0"
        ],
        [
         "102",
         "2.0"
        ],
        [
         "104",
         "1.0"
        ],
        [
         "114",
         "2.0"
        ],
        [
         "116",
         "1.0"
        ],
        [
         "117",
         "1.0"
        ],
        [
         "118",
         "1.0"
        ],
        [
         "119",
         "0.0"
        ],
        [
         "120",
         "1.0"
        ]
       ],
       "shape": {
        "columns": 1,
        "rows": 193593
       }
      },
      "text/plain": [
       "1         16.0\n",
       "2         15.0\n",
       "5         15.0\n",
       "6         16.0\n",
       "11        16.0\n",
       "          ... \n",
       "268245    10.0\n",
       "268246    11.0\n",
       "268247     9.0\n",
       "268248    14.0\n",
       "268249     9.0\n",
       "Name: car_old, Length: 193593, dtype: float64"
      ]
     },
     "execution_count": 126,
     "metadata": {},
     "output_type": "execute_result"
    }
   ],
   "source": [
    "X[\"Adv_date\"] = X[\"Adv_year\"].astype(str) + \"-\" + X[\"Adv_month\"].astype(str)+ \"-1\"\n",
    "X[\"Adv_date\"] = pd.to_datetime(X[\"Adv_date\"]).dt.year\n",
    "X[\"car_old\"] = X[\"Adv_date\"] - X[\"Reg_year\"]\n",
    "X[\"car_old\"]"
   ]
  },
  {
   "cell_type": "code",
   "execution_count": 127,
   "id": "9452f673",
   "metadata": {},
   "outputs": [],
   "source": [
    "X[\"Runned_Miles\"] = pd.to_numeric(X[\"Runned_Miles\"], errors=\"coerce\")"
   ]
  },
  {
   "cell_type": "code",
   "execution_count": 128,
   "id": "91a01343",
   "metadata": {},
   "outputs": [],
   "source": [
    "X[\"Runned_Miles\"].isna().sum()\n",
    "X = X.dropna()"
   ]
  },
  {
   "cell_type": "code",
   "execution_count": 129,
   "id": "7ef29ba1",
   "metadata": {},
   "outputs": [],
   "source": [
    "def eng_size(val):\n",
    "    val = str(val).lower()\n",
    "    if \"l\" in val:\n",
    "        return float(val.replace(\"l\", \"\"))\n",
    "    elif \"cc\" in val:\n",
    "        return float(val.replace(\"cc\", \"\") / 1000)\n",
    "    else:\n",
    "        return pd.to_numeric(val, errors=\"coerce\")\n",
    "X[\"Engin_size\"] = X[\"Engin_size\"].apply(eng_size)"
   ]
  },
  {
   "cell_type": "code",
   "execution_count": 130,
   "id": "7eb1e829",
   "metadata": {},
   "outputs": [],
   "source": [
    "X[\"Engin_size\"] = X[\"Engin_size\"].dropna()"
   ]
  },
  {
   "cell_type": "code",
   "execution_count": 131,
   "id": "6f4fdb44",
   "metadata": {},
   "outputs": [
    {
     "data": {
      "application/vnd.microsoft.datawrangler.viewer.v0+json": {
       "columns": [
        {
         "name": "index",
         "rawType": "int64",
         "type": "integer"
        },
        {
         "name": "Average_mpg",
         "rawType": "object",
         "type": "string"
        },
        {
         "name": "Top_speed",
         "rawType": "object",
         "type": "string"
        }
       ],
       "ref": "4b7dd130-6cea-43bc-b2e3-56a373bcbe0f",
       "rows": [
        [
         "1",
         "13.7 mpg",
         "179 mph"
        ],
        [
         "2",
         "14.7 mpg",
         "155 mph"
        ],
        [
         "5",
         "13.7 mpg",
         "179 mph"
        ],
        [
         "6",
         "13.7 mpg",
         "179 mph"
        ],
        [
         "11",
         "13.7 mpg",
         "179 mph"
        ],
        [
         "13",
         "13.7 mpg",
         "179 mph"
        ],
        [
         "21",
         "13.7 mpg",
         "155 mph"
        ],
        [
         "24",
         "14.7 mpg",
         "155 mph"
        ],
        [
         "37",
         "22.1 mpg",
         "187 mph"
        ],
        [
         "38",
         "24.8 mpg",
         "180 mph"
        ],
        [
         "39",
         "38.2 mpg",
         "167 mph"
        ],
        [
         "40",
         "22.1 mpg",
         "187 mph"
        ],
        [
         "41",
         "22.1 mpg",
         "187 mph"
        ],
        [
         "42",
         "22.1 mpg",
         "187 mph"
        ],
        [
         "43",
         "38.2 mpg",
         "167 mph"
        ],
        [
         "44",
         "22.1 mpg",
         "187 mph"
        ],
        [
         "45",
         "38.2 mpg",
         "167 mph"
        ],
        [
         "46",
         "38.2 mpg",
         "167 mph"
        ],
        [
         "47",
         "22.1 mpg",
         "187 mph"
        ],
        [
         "48",
         "38.2 mpg",
         "167 mph"
        ],
        [
         "49",
         "38.2 mpg",
         "167 mph"
        ],
        [
         "57",
         "24.8 mpg",
         "180 mph"
        ],
        [
         "59",
         "21.6 mpg",
         "187 mph"
        ],
        [
         "60",
         "22.1 mpg",
         "187 mph"
        ],
        [
         "61",
         "38.2 mpg",
         "167 mph"
        ],
        [
         "65",
         "22.1 mpg",
         "187 mph"
        ],
        [
         "68",
         "24.8 mpg",
         "180 mph"
        ],
        [
         "75",
         "38.2 mpg",
         "167 mph"
        ],
        [
         "77",
         "22.1 mpg",
         "187 mph"
        ],
        [
         "78",
         "24.8 mpg",
         "180 mph"
        ],
        [
         "80",
         "38.2 mpg",
         "167 mph"
        ],
        [
         "81",
         "38.2 mpg",
         "167 mph"
        ],
        [
         "83",
         "38.2 mpg",
         "167 mph"
        ],
        [
         "84",
         "22.1 mpg",
         "187 mph"
        ],
        [
         "85",
         "38.2 mpg",
         "167 mph"
        ],
        [
         "87",
         "24.8 mpg",
         "180 mph"
        ],
        [
         "88",
         "38.2 mpg",
         "167 mph"
        ],
        [
         "90",
         "38.2 mpg",
         "167 mph"
        ],
        [
         "92",
         "22.1 mpg",
         "187 mph"
        ],
        [
         "96",
         "38.2 mpg",
         "167 mph"
        ],
        [
         "98",
         "22.1 mpg",
         "187 mph"
        ],
        [
         "100",
         "38.2 mpg",
         "167 mph"
        ],
        [
         "102",
         "22.1 mpg",
         "187 mph"
        ],
        [
         "104",
         "22.1 mpg",
         "187 mph"
        ],
        [
         "114",
         "22.1 mpg",
         "187 mph"
        ],
        [
         "116",
         "22.1 mpg",
         "187 mph"
        ],
        [
         "117",
         "38.2 mpg",
         "167 mph"
        ],
        [
         "118",
         "38.2 mpg",
         "167 mph"
        ],
        [
         "119",
         "38.2 mpg",
         "167 mph"
        ],
        [
         "120",
         "22.1 mpg",
         "187 mph"
        ]
       ],
       "shape": {
        "columns": 2,
        "rows": 193386
       }
      },
      "text/html": [
       "<div>\n",
       "<style scoped>\n",
       "    .dataframe tbody tr th:only-of-type {\n",
       "        vertical-align: middle;\n",
       "    }\n",
       "\n",
       "    .dataframe tbody tr th {\n",
       "        vertical-align: top;\n",
       "    }\n",
       "\n",
       "    .dataframe thead th {\n",
       "        text-align: right;\n",
       "    }\n",
       "</style>\n",
       "<table border=\"1\" class=\"dataframe\">\n",
       "  <thead>\n",
       "    <tr style=\"text-align: right;\">\n",
       "      <th></th>\n",
       "      <th>Average_mpg</th>\n",
       "      <th>Top_speed</th>\n",
       "    </tr>\n",
       "  </thead>\n",
       "  <tbody>\n",
       "    <tr>\n",
       "      <th>1</th>\n",
       "      <td>13.7 mpg</td>\n",
       "      <td>179 mph</td>\n",
       "    </tr>\n",
       "    <tr>\n",
       "      <th>2</th>\n",
       "      <td>14.7 mpg</td>\n",
       "      <td>155 mph</td>\n",
       "    </tr>\n",
       "    <tr>\n",
       "      <th>5</th>\n",
       "      <td>13.7 mpg</td>\n",
       "      <td>179 mph</td>\n",
       "    </tr>\n",
       "    <tr>\n",
       "      <th>6</th>\n",
       "      <td>13.7 mpg</td>\n",
       "      <td>179 mph</td>\n",
       "    </tr>\n",
       "    <tr>\n",
       "      <th>11</th>\n",
       "      <td>13.7 mpg</td>\n",
       "      <td>179 mph</td>\n",
       "    </tr>\n",
       "    <tr>\n",
       "      <th>...</th>\n",
       "      <td>...</td>\n",
       "      <td>...</td>\n",
       "    </tr>\n",
       "    <tr>\n",
       "      <th>268245</th>\n",
       "      <td>48.7 mpg</td>\n",
       "      <td>127 mph</td>\n",
       "    </tr>\n",
       "    <tr>\n",
       "      <th>268246</th>\n",
       "      <td>40.4 mpg</td>\n",
       "      <td>137 mph</td>\n",
       "    </tr>\n",
       "    <tr>\n",
       "      <th>268247</th>\n",
       "      <td>40.4 mpg</td>\n",
       "      <td>137 mph</td>\n",
       "    </tr>\n",
       "    <tr>\n",
       "      <th>268248</th>\n",
       "      <td>31.0 mpg</td>\n",
       "      <td>134 mph</td>\n",
       "    </tr>\n",
       "    <tr>\n",
       "      <th>268249</th>\n",
       "      <td>49.6 mpg</td>\n",
       "      <td>130 mph</td>\n",
       "    </tr>\n",
       "  </tbody>\n",
       "</table>\n",
       "<p>193386 rows × 2 columns</p>\n",
       "</div>"
      ],
      "text/plain": [
       "       Average_mpg Top_speed\n",
       "1         13.7 mpg   179 mph\n",
       "2         14.7 mpg   155 mph\n",
       "5         13.7 mpg   179 mph\n",
       "6         13.7 mpg   179 mph\n",
       "11        13.7 mpg   179 mph\n",
       "...            ...       ...\n",
       "268245    48.7 mpg   127 mph\n",
       "268246    40.4 mpg   137 mph\n",
       "268247    40.4 mpg   137 mph\n",
       "268248    31.0 mpg   134 mph\n",
       "268249    49.6 mpg   130 mph\n",
       "\n",
       "[193386 rows x 2 columns]"
      ]
     },
     "execution_count": 131,
     "metadata": {},
     "output_type": "execute_result"
    }
   ],
   "source": [
    "X[[\"Average_mpg\", \"Top_speed\"]]"
   ]
  },
  {
   "cell_type": "code",
   "execution_count": 132,
   "id": "04b0fd9a",
   "metadata": {},
   "outputs": [],
   "source": [
    "X[\"Average_mpg\"] = (\n",
    "    X[\"Average_mpg\"]\n",
    "      .astype(str)\n",
    "      .str.lower()\n",
    "      .str.replace(\"mpg\", \"\", regex=False)\n",
    "      .pipe(pd.to_numeric, errors=\"coerce\")\n",
    ")\n",
    "\n",
    "X[\"Top_speed\"] = (\n",
    "    X[\"Top_speed\"]\n",
    "      .astype(str)\n",
    "      .str.lower()\n",
    "      .str.replace(\"mph\", \"\", regex=False)\n",
    "      .pipe(pd.to_numeric, errors=\"coerce\")\n",
    ")"
   ]
  },
  {
   "cell_type": "code",
   "execution_count": 133,
   "id": "bb02ced3",
   "metadata": {},
   "outputs": [
    {
     "data": {
      "application/vnd.microsoft.datawrangler.viewer.v0+json": {
       "columns": [
        {
         "name": "index",
         "rawType": "object",
         "type": "string"
        },
        {
         "name": "Adv_year",
         "rawType": "float64",
         "type": "float"
        },
        {
         "name": "Adv_month",
         "rawType": "float64",
         "type": "float"
        },
        {
         "name": "Reg_year",
         "rawType": "float64",
         "type": "float"
        },
        {
         "name": "Runned_Miles",
         "rawType": "float64",
         "type": "float"
        },
        {
         "name": "Engin_size",
         "rawType": "float64",
         "type": "float"
        },
        {
         "name": "Engine_power",
         "rawType": "float64",
         "type": "float"
        },
        {
         "name": "Wheelbase",
         "rawType": "float64",
         "type": "float"
        },
        {
         "name": "Height",
         "rawType": "float64",
         "type": "float"
        },
        {
         "name": "Width",
         "rawType": "float64",
         "type": "float"
        },
        {
         "name": "Length",
         "rawType": "float64",
         "type": "float"
        },
        {
         "name": "Average_mpg",
         "rawType": "float64",
         "type": "float"
        },
        {
         "name": "Top_speed",
         "rawType": "float64",
         "type": "float"
        },
        {
         "name": "Seat_num",
         "rawType": "float64",
         "type": "float"
        },
        {
         "name": "Door_num",
         "rawType": "float64",
         "type": "float"
        },
        {
         "name": "Adv_date",
         "rawType": "float64",
         "type": "float"
        },
        {
         "name": "car_old",
         "rawType": "float64",
         "type": "float"
        }
       ],
       "ref": "f6e3d810-3e54-4599-ab5e-a6bc0bb3871c",
       "rows": [
        [
         "count",
         "193386.0",
         "193386.0",
         "193386.0",
         "193386.0",
         "193386.0",
         "193386.0",
         "193386.0",
         "193386.0",
         "193386.0",
         "193386.0",
         "193386.0",
         "193386.0",
         "193386.0",
         "193386.0",
         "193386.0",
         "193386.0"
        ],
        [
         "mean",
         "2017.9549140061845",
         "5.796624367844622",
         "2012.16955725854",
         "51102.56523740085",
         "1.898131353872566",
         "150.91276209239555",
         "2641.698235653046",
         "1534.5671403307374",
         "1893.7050510378208",
         "4347.7053406141085",
         "50.977080036817554",
         "122.28651505279596",
         "4.901730218319837",
         "4.372555407320075",
         "2017.9549140061845",
         "5.785356747644607"
        ],
        [
         "std",
         "0.226805827339746",
         "2.0521212628441865",
         "4.330797788655005",
         "42894.55214570832",
         "0.7602525929621107",
         "86.19761515384847",
         "178.50383336916505",
         "126.36008018562936",
         "154.22081233424578",
         "413.716473213239",
         "13.798868207603796",
         "18.46266836604149",
         "0.8624765304285016",
         "1.010019102094463",
         "0.226805827339746",
         "4.33658677001971"
        ],
        [
         "min",
         "2012.0",
         "1.0",
         "2000.0",
         "2.0",
         "0.6",
         "44.0",
         "1420.0",
         "1112.0",
         "1475.0",
         "2500.0",
         "9.4",
         "11.0",
         "1.0",
         "2.0",
         "2012.0",
         "-2.0"
        ],
        [
         "25%",
         "2018.0",
         "4.0",
         "2009.0",
         "16500.0",
         "1.4",
         "99.0",
         "2511.0",
         "1458.0",
         "1775.0",
         "4052.0",
         "41.5",
         "109.0",
         "5.0",
         "4.0",
         "2018.0",
         "2.0"
        ],
        [
         "50%",
         "2018.0",
         "6.0",
         "2013.0",
         "44000.0",
         "1.6",
         "126.0",
         "2640.0",
         "1491.0",
         "1885.0",
         "4368.0",
         "50.4",
         "118.0",
         "5.0",
         "5.0",
         "2018.0",
         "5.0"
        ],
        [
         "75%",
         "2018.0",
         "8.0",
         "2016.0",
         "78900.0",
         "2.0",
         "177.0",
         "2754.0",
         "1620.0",
         "2020.0",
         "4659.0",
         "60.1",
         "131.0",
         "5.0",
         "5.0",
         "2018.0",
         "9.0"
        ],
        [
         "max",
         "2018.0",
         "12.0",
         "2018.0",
         "6363342.0",
         "6.8",
         "740.0",
         "5246.0",
         "2660.0",
         "2690.0",
         "6165.0",
         "200.0",
         "226.0",
         "9.0",
         "5.0",
         "2018.0",
         "18.0"
        ]
       ],
       "shape": {
        "columns": 16,
        "rows": 8
       }
      },
      "text/html": [
       "<div>\n",
       "<style scoped>\n",
       "    .dataframe tbody tr th:only-of-type {\n",
       "        vertical-align: middle;\n",
       "    }\n",
       "\n",
       "    .dataframe tbody tr th {\n",
       "        vertical-align: top;\n",
       "    }\n",
       "\n",
       "    .dataframe thead th {\n",
       "        text-align: right;\n",
       "    }\n",
       "</style>\n",
       "<table border=\"1\" class=\"dataframe\">\n",
       "  <thead>\n",
       "    <tr style=\"text-align: right;\">\n",
       "      <th></th>\n",
       "      <th>Adv_year</th>\n",
       "      <th>Adv_month</th>\n",
       "      <th>Reg_year</th>\n",
       "      <th>Runned_Miles</th>\n",
       "      <th>Engin_size</th>\n",
       "      <th>Engine_power</th>\n",
       "      <th>Wheelbase</th>\n",
       "      <th>Height</th>\n",
       "      <th>Width</th>\n",
       "      <th>Length</th>\n",
       "      <th>Average_mpg</th>\n",
       "      <th>Top_speed</th>\n",
       "      <th>Seat_num</th>\n",
       "      <th>Door_num</th>\n",
       "      <th>Adv_date</th>\n",
       "      <th>car_old</th>\n",
       "    </tr>\n",
       "  </thead>\n",
       "  <tbody>\n",
       "    <tr>\n",
       "      <th>count</th>\n",
       "      <td>193386.000000</td>\n",
       "      <td>193386.000000</td>\n",
       "      <td>193386.000000</td>\n",
       "      <td>1.933860e+05</td>\n",
       "      <td>193386.000000</td>\n",
       "      <td>193386.000000</td>\n",
       "      <td>193386.000000</td>\n",
       "      <td>193386.00000</td>\n",
       "      <td>193386.000000</td>\n",
       "      <td>193386.000000</td>\n",
       "      <td>193386.000000</td>\n",
       "      <td>193386.000000</td>\n",
       "      <td>193386.000000</td>\n",
       "      <td>193386.000000</td>\n",
       "      <td>193386.000000</td>\n",
       "      <td>193386.000000</td>\n",
       "    </tr>\n",
       "    <tr>\n",
       "      <th>mean</th>\n",
       "      <td>2017.954914</td>\n",
       "      <td>5.796624</td>\n",
       "      <td>2012.169557</td>\n",
       "      <td>5.110257e+04</td>\n",
       "      <td>1.898131</td>\n",
       "      <td>150.912762</td>\n",
       "      <td>2641.698236</td>\n",
       "      <td>1534.56714</td>\n",
       "      <td>1893.705051</td>\n",
       "      <td>4347.705341</td>\n",
       "      <td>50.977080</td>\n",
       "      <td>122.286515</td>\n",
       "      <td>4.901730</td>\n",
       "      <td>4.372555</td>\n",
       "      <td>2017.954914</td>\n",
       "      <td>5.785357</td>\n",
       "    </tr>\n",
       "    <tr>\n",
       "      <th>std</th>\n",
       "      <td>0.226806</td>\n",
       "      <td>2.052121</td>\n",
       "      <td>4.330798</td>\n",
       "      <td>4.289455e+04</td>\n",
       "      <td>0.760253</td>\n",
       "      <td>86.197615</td>\n",
       "      <td>178.503833</td>\n",
       "      <td>126.36008</td>\n",
       "      <td>154.220812</td>\n",
       "      <td>413.716473</td>\n",
       "      <td>13.798868</td>\n",
       "      <td>18.462668</td>\n",
       "      <td>0.862477</td>\n",
       "      <td>1.010019</td>\n",
       "      <td>0.226806</td>\n",
       "      <td>4.336587</td>\n",
       "    </tr>\n",
       "    <tr>\n",
       "      <th>min</th>\n",
       "      <td>2012.000000</td>\n",
       "      <td>1.000000</td>\n",
       "      <td>2000.000000</td>\n",
       "      <td>2.000000e+00</td>\n",
       "      <td>0.600000</td>\n",
       "      <td>44.000000</td>\n",
       "      <td>1420.000000</td>\n",
       "      <td>1112.00000</td>\n",
       "      <td>1475.000000</td>\n",
       "      <td>2500.000000</td>\n",
       "      <td>9.400000</td>\n",
       "      <td>11.000000</td>\n",
       "      <td>1.000000</td>\n",
       "      <td>2.000000</td>\n",
       "      <td>2012.000000</td>\n",
       "      <td>-2.000000</td>\n",
       "    </tr>\n",
       "    <tr>\n",
       "      <th>25%</th>\n",
       "      <td>2018.000000</td>\n",
       "      <td>4.000000</td>\n",
       "      <td>2009.000000</td>\n",
       "      <td>1.650000e+04</td>\n",
       "      <td>1.400000</td>\n",
       "      <td>99.000000</td>\n",
       "      <td>2511.000000</td>\n",
       "      <td>1458.00000</td>\n",
       "      <td>1775.000000</td>\n",
       "      <td>4052.000000</td>\n",
       "      <td>41.500000</td>\n",
       "      <td>109.000000</td>\n",
       "      <td>5.000000</td>\n",
       "      <td>4.000000</td>\n",
       "      <td>2018.000000</td>\n",
       "      <td>2.000000</td>\n",
       "    </tr>\n",
       "    <tr>\n",
       "      <th>50%</th>\n",
       "      <td>2018.000000</td>\n",
       "      <td>6.000000</td>\n",
       "      <td>2013.000000</td>\n",
       "      <td>4.400000e+04</td>\n",
       "      <td>1.600000</td>\n",
       "      <td>126.000000</td>\n",
       "      <td>2640.000000</td>\n",
       "      <td>1491.00000</td>\n",
       "      <td>1885.000000</td>\n",
       "      <td>4368.000000</td>\n",
       "      <td>50.400000</td>\n",
       "      <td>118.000000</td>\n",
       "      <td>5.000000</td>\n",
       "      <td>5.000000</td>\n",
       "      <td>2018.000000</td>\n",
       "      <td>5.000000</td>\n",
       "    </tr>\n",
       "    <tr>\n",
       "      <th>75%</th>\n",
       "      <td>2018.000000</td>\n",
       "      <td>8.000000</td>\n",
       "      <td>2016.000000</td>\n",
       "      <td>7.890000e+04</td>\n",
       "      <td>2.000000</td>\n",
       "      <td>177.000000</td>\n",
       "      <td>2754.000000</td>\n",
       "      <td>1620.00000</td>\n",
       "      <td>2020.000000</td>\n",
       "      <td>4659.000000</td>\n",
       "      <td>60.100000</td>\n",
       "      <td>131.000000</td>\n",
       "      <td>5.000000</td>\n",
       "      <td>5.000000</td>\n",
       "      <td>2018.000000</td>\n",
       "      <td>9.000000</td>\n",
       "    </tr>\n",
       "    <tr>\n",
       "      <th>max</th>\n",
       "      <td>2018.000000</td>\n",
       "      <td>12.000000</td>\n",
       "      <td>2018.000000</td>\n",
       "      <td>6.363342e+06</td>\n",
       "      <td>6.800000</td>\n",
       "      <td>740.000000</td>\n",
       "      <td>5246.000000</td>\n",
       "      <td>2660.00000</td>\n",
       "      <td>2690.000000</td>\n",
       "      <td>6165.000000</td>\n",
       "      <td>200.000000</td>\n",
       "      <td>226.000000</td>\n",
       "      <td>9.000000</td>\n",
       "      <td>5.000000</td>\n",
       "      <td>2018.000000</td>\n",
       "      <td>18.000000</td>\n",
       "    </tr>\n",
       "  </tbody>\n",
       "</table>\n",
       "</div>"
      ],
      "text/plain": [
       "            Adv_year      Adv_month       Reg_year  Runned_Miles  \\\n",
       "count  193386.000000  193386.000000  193386.000000  1.933860e+05   \n",
       "mean     2017.954914       5.796624    2012.169557  5.110257e+04   \n",
       "std         0.226806       2.052121       4.330798  4.289455e+04   \n",
       "min      2012.000000       1.000000    2000.000000  2.000000e+00   \n",
       "25%      2018.000000       4.000000    2009.000000  1.650000e+04   \n",
       "50%      2018.000000       6.000000    2013.000000  4.400000e+04   \n",
       "75%      2018.000000       8.000000    2016.000000  7.890000e+04   \n",
       "max      2018.000000      12.000000    2018.000000  6.363342e+06   \n",
       "\n",
       "          Engin_size   Engine_power      Wheelbase        Height  \\\n",
       "count  193386.000000  193386.000000  193386.000000  193386.00000   \n",
       "mean        1.898131     150.912762    2641.698236    1534.56714   \n",
       "std         0.760253      86.197615     178.503833     126.36008   \n",
       "min         0.600000      44.000000    1420.000000    1112.00000   \n",
       "25%         1.400000      99.000000    2511.000000    1458.00000   \n",
       "50%         1.600000     126.000000    2640.000000    1491.00000   \n",
       "75%         2.000000     177.000000    2754.000000    1620.00000   \n",
       "max         6.800000     740.000000    5246.000000    2660.00000   \n",
       "\n",
       "               Width         Length    Average_mpg      Top_speed  \\\n",
       "count  193386.000000  193386.000000  193386.000000  193386.000000   \n",
       "mean     1893.705051    4347.705341      50.977080     122.286515   \n",
       "std       154.220812     413.716473      13.798868      18.462668   \n",
       "min      1475.000000    2500.000000       9.400000      11.000000   \n",
       "25%      1775.000000    4052.000000      41.500000     109.000000   \n",
       "50%      1885.000000    4368.000000      50.400000     118.000000   \n",
       "75%      2020.000000    4659.000000      60.100000     131.000000   \n",
       "max      2690.000000    6165.000000     200.000000     226.000000   \n",
       "\n",
       "            Seat_num       Door_num       Adv_date        car_old  \n",
       "count  193386.000000  193386.000000  193386.000000  193386.000000  \n",
       "mean        4.901730       4.372555    2017.954914       5.785357  \n",
       "std         0.862477       1.010019       0.226806       4.336587  \n",
       "min         1.000000       2.000000    2012.000000      -2.000000  \n",
       "25%         5.000000       4.000000    2018.000000       2.000000  \n",
       "50%         5.000000       5.000000    2018.000000       5.000000  \n",
       "75%         5.000000       5.000000    2018.000000       9.000000  \n",
       "max         9.000000       5.000000    2018.000000      18.000000  "
      ]
     },
     "execution_count": 133,
     "metadata": {},
     "output_type": "execute_result"
    }
   ],
   "source": [
    "X.describe()"
   ]
  },
  {
   "cell_type": "code",
   "execution_count": 134,
   "id": "ad5e84be",
   "metadata": {},
   "outputs": [],
   "source": [
    "X[\"MilesPerYear\"] = X[\"Runned_Miles\"] / (X[\"car_old\"] + 1e-6)\n",
    "X[\"ts to power\"] = X[\"Top_speed\"] / (X[\"Engine_power\"] + 1e-6)\n",
    "X[\"efficiency\"] = X[\"Engin_size\"] / (X[\"Average_mpg\"] + 1e-6)\n",
    "\n",
    "cols = [\n",
    "    \"Reg_year\",\n",
    "    \"Adv_year\",\n",
    "    \"Adv_month\",\n",
    "]\n",
    "X = X.drop(cols, axis=1)"
   ]
  },
  {
   "cell_type": "code",
   "execution_count": 135,
   "id": "f506ddec",
   "metadata": {},
   "outputs": [],
   "source": [
    "X = pd.get_dummies(X, columns=[\"Color\", \"Bodytype\", \"Gearbox\", \"Fuel_type\"], drop_first=True)"
   ]
  },
  {
   "cell_type": "code",
   "execution_count": 136,
   "id": "5bffc27e",
   "metadata": {},
   "outputs": [
    {
     "name": "stdout",
     "output_type": "stream",
     "text": [
      "<class 'pandas.core.frame.DataFrame'>\n",
      "Index: 193386 entries, 1 to 268249\n",
      "Data columns (total 55 columns):\n",
      " #   Column                                     Non-Null Count   Dtype  \n",
      "---  ------                                     --------------   -----  \n",
      " 0   Genmodel_ID                                193386 non-null  object \n",
      " 1   Runned_Miles                               193386 non-null  float64\n",
      " 2   Engin_size                                 193386 non-null  float64\n",
      " 3   Engine_power                               193386 non-null  float64\n",
      " 4   Wheelbase                                  193386 non-null  float64\n",
      " 5   Height                                     193386 non-null  float64\n",
      " 6   Width                                      193386 non-null  float64\n",
      " 7   Length                                     193386 non-null  float64\n",
      " 8   Average_mpg                                193386 non-null  float64\n",
      " 9   Top_speed                                  193386 non-null  int64  \n",
      " 10  Seat_num                                   193386 non-null  float64\n",
      " 11  Door_num                                   193386 non-null  float64\n",
      " 12  Adv_date                                   193386 non-null  int32  \n",
      " 13  car_old                                    193386 non-null  float64\n",
      " 14  MilesPerYear                               193386 non-null  float64\n",
      " 15  ts to power                                193386 non-null  float64\n",
      " 16  efficiency                                 193386 non-null  float64\n",
      " 17  Color_Black                                193386 non-null  bool   \n",
      " 18  Color_Blue                                 193386 non-null  bool   \n",
      " 19  Color_Bronze                               193386 non-null  bool   \n",
      " 20  Color_Brown                                193386 non-null  bool   \n",
      " 21  Color_Burgundy                             193386 non-null  bool   \n",
      " 22  Color_Gold                                 193386 non-null  bool   \n",
      " 23  Color_Green                                193386 non-null  bool   \n",
      " 24  Color_Grey                                 193386 non-null  bool   \n",
      " 25  Color_Indigo                               193386 non-null  bool   \n",
      " 26  Color_Magenta                              193386 non-null  bool   \n",
      " 27  Color_Maroon                               193386 non-null  bool   \n",
      " 28  Color_Multicolour                          193386 non-null  bool   \n",
      " 29  Color_Navy                                 193386 non-null  bool   \n",
      " 30  Color_Orange                               193386 non-null  bool   \n",
      " 31  Color_Pink                                 193386 non-null  bool   \n",
      " 32  Color_Purple                               193386 non-null  bool   \n",
      " 33  Color_Red                                  193386 non-null  bool   \n",
      " 34  Color_Silver                               193386 non-null  bool   \n",
      " 35  Color_Turquoise                            193386 non-null  bool   \n",
      " 36  Color_White                                193386 non-null  bool   \n",
      " 37  Color_Yellow                               193386 non-null  bool   \n",
      " 38  Bodytype_Convertible                       193386 non-null  bool   \n",
      " 39  Bodytype_Coupe                             193386 non-null  bool   \n",
      " 40  Bodytype_Estate                            193386 non-null  bool   \n",
      " 41  Bodytype_Hatchback                         193386 non-null  bool   \n",
      " 42  Bodytype_Limousine                         193386 non-null  bool   \n",
      " 43  Bodytype_MPV                               193386 non-null  bool   \n",
      " 44  Bodytype_Pickup                            193386 non-null  bool   \n",
      " 45  Bodytype_SUV                               193386 non-null  bool   \n",
      " 46  Bodytype_Saloon                            193386 non-null  bool   \n",
      " 47  Gearbox_Manual                             193386 non-null  bool   \n",
      " 48  Fuel_type_Diesel                           193386 non-null  bool   \n",
      " 49  Fuel_type_Hybrid  Diesel/Electric          193386 non-null  bool   \n",
      " 50  Fuel_type_Hybrid  Diesel/Electric Plug-in  193386 non-null  bool   \n",
      " 51  Fuel_type_Hybrid  Petrol/Electric          193386 non-null  bool   \n",
      " 52  Fuel_type_Hybrid  Petrol/Electric Plug-in  193386 non-null  bool   \n",
      " 53  Fuel_type_Petrol                           193386 non-null  bool   \n",
      " 54  Fuel_type_Petrol Ethanol                   193386 non-null  bool   \n",
      "dtypes: bool(38), float64(14), int32(1), int64(1), object(1)\n",
      "memory usage: 32.8+ MB\n"
     ]
    }
   ],
   "source": [
    "X.info()"
   ]
  },
  {
   "cell_type": "code",
   "execution_count": 137,
   "id": "4157af3b",
   "metadata": {},
   "outputs": [],
   "source": [
    "X.to_parquet(\"encoded.parquet\")"
   ]
  }
 ],
 "metadata": {
  "kernelspec": {
   "display_name": "ml_env",
   "language": "python",
   "name": "python3"
  },
  "language_info": {
   "codemirror_mode": {
    "name": "ipython",
    "version": 3
   },
   "file_extension": ".py",
   "mimetype": "text/x-python",
   "name": "python",
   "nbconvert_exporter": "python",
   "pygments_lexer": "ipython3",
   "version": "3.10.16"
  }
 },
 "nbformat": 4,
 "nbformat_minor": 5
}
